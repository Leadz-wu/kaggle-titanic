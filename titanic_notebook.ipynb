{
 "cells": [
  {
   "cell_type": "markdown",
   "metadata": {},
   "source": [
    "# Kaggle - Space Titanic - Spark framework"
   ]
  },
  {
   "cell_type": "markdown",
   "metadata": {},
   "source": [
    "This notebooks is used as practice for ML applied to Kaggle Space Titanic training problem and pySpark practice\n",
    "https://www.kaggle.com/competitions/spaceship-titanic/data?select=train.csv"
   ]
  },
  {
   "cell_type": "code",
   "execution_count": 76,
   "metadata": {},
   "outputs": [],
   "source": [
    "# import libraries\n",
    "from pyspark.sql import SparkSession\n",
    "from pyspark.sql.functions import col, split\n",
    "from pyspark.ml import pipeline\n",
    "from pyspark.ml.stat import Correlation\n",
    "from pyspark.ml.feature import StringIndexer, OneHotEncoder\n",
    "import pandas as pd"
   ]
  },
  {
   "cell_type": "markdown",
   "metadata": {},
   "source": [
    "## Import data to local Spark Framework"
   ]
  },
  {
   "cell_type": "markdown",
   "metadata": {},
   "source": [
    "Load data from CSV and organize schema"
   ]
  },
  {
   "cell_type": "code",
   "execution_count": 98,
   "metadata": {},
   "outputs": [],
   "source": [
    "# set env viroment for localhost if needed\n",
    "spark = SparkSession.builder.config(\"spark.driver.host\", \"localhost\").getOrCreate()\n",
    "\n",
    "train_spark = spark.read.format('csv').option(\"header\",True).load('./train.csv')\n",
    "test_spark = spark.read.format('csv').option(\"header\",True).load('./test.csv')"
   ]
  },
  {
   "cell_type": "code",
   "execution_count": 99,
   "metadata": {},
   "outputs": [
    {
     "name": "stdout",
     "output_type": "stream",
     "text": [
      "+-----------+----------+---------+-----+-------------+----+-----+-----------+---------+------------+------+------+------------------+-----------+\n",
      "|PassengerId|HomePlanet|CryoSleep|Cabin|  Destination| Age|  VIP|RoomService|FoodCourt|ShoppingMall|   Spa|VRDeck|              Name|Transported|\n",
      "+-----------+----------+---------+-----+-------------+----+-----+-----------+---------+------------+------+------+------------------+-----------+\n",
      "|    0001_01|    Europa|    False|B/0/P|  TRAPPIST-1e|39.0|False|        0.0|      0.0|         0.0|   0.0|   0.0|   Maham Ofracculy|      False|\n",
      "|    0002_01|     Earth|    False|F/0/S|  TRAPPIST-1e|24.0|False|      109.0|      9.0|        25.0| 549.0|  44.0|      Juanna Vines|       True|\n",
      "|    0003_01|    Europa|    False|A/0/S|  TRAPPIST-1e|58.0| True|       43.0|   3576.0|         0.0|6715.0|  49.0|     Altark Susent|      False|\n",
      "|    0003_02|    Europa|    False|A/0/S|  TRAPPIST-1e|33.0|False|        0.0|   1283.0|       371.0|3329.0| 193.0|      Solam Susent|      False|\n",
      "|    0004_01|     Earth|    False|F/1/S|  TRAPPIST-1e|16.0|False|      303.0|     70.0|       151.0| 565.0|   2.0| Willy Santantines|       True|\n",
      "|    0005_01|     Earth|    False|F/0/P|PSO J318.5-22|44.0|False|        0.0|    483.0|         0.0| 291.0|   0.0| Sandie Hinetthews|       True|\n",
      "|    0006_01|     Earth|    False|F/2/S|  TRAPPIST-1e|26.0|False|       42.0|   1539.0|         3.0|   0.0|   0.0|Billex Jacostaffey|       True|\n",
      "|    0006_02|     Earth|     True|G/0/S|  TRAPPIST-1e|28.0|False|        0.0|      0.0|         0.0|   0.0|  NULL|Candra Jacostaffey|       True|\n",
      "|    0007_01|     Earth|    False|F/3/S|  TRAPPIST-1e|35.0|False|        0.0|    785.0|        17.0| 216.0|   0.0|     Andona Beston|       True|\n",
      "|    0008_01|    Europa|     True|B/1/P|  55 Cancri e|14.0|False|        0.0|      0.0|         0.0|   0.0|   0.0|    Erraiam Flatic|       True|\n",
      "|    0008_02|    Europa|     True|B/1/P|  TRAPPIST-1e|34.0|False|        0.0|      0.0|        NULL|   0.0|   0.0|    Altardr Flatic|       True|\n",
      "|    0008_03|    Europa|    False|B/1/P|  55 Cancri e|45.0|False|       39.0|   7295.0|       589.0| 110.0| 124.0|     Wezena Flatic|       True|\n",
      "|    0009_01|      Mars|    False|F/1/P|  TRAPPIST-1e|32.0|False|       73.0|      0.0|      1123.0|   0.0| 113.0|      Berers Barne|       True|\n",
      "|    0010_01|     Earth|    False|G/1/S|  TRAPPIST-1e|48.0|False|      719.0|      1.0|        65.0|   0.0|  24.0|    Reney Baketton|      False|\n",
      "|    0011_01|     Earth|    False|F/2/P|  TRAPPIST-1e|28.0|False|        8.0|    974.0|        12.0|   2.0|   7.0|   Elle Bertsontry|       True|\n",
      "|    0012_01|     Earth|    False| NULL|  TRAPPIST-1e|31.0|False|       32.0|      0.0|       876.0|   0.0|   0.0|     Justie Pooles|      False|\n",
      "|    0014_01|      Mars|    False|F/3/P|  55 Cancri e|27.0|False|     1286.0|    122.0|        NULL|   0.0|   0.0|       Flats Eccle|      False|\n",
      "|    0015_01|     Earth|    False|F/4/P|  55 Cancri e|24.0|False|        0.0|      1.0|         0.0|   0.0| 637.0|   Carry Hughriend|      False|\n",
      "|    0016_01|      Mars|     True|F/5/P|  TRAPPIST-1e|45.0|False|        0.0|      0.0|         0.0|   0.0|   0.0|        Alus Upead|       True|\n",
      "|    0017_01|     Earth|    False|G/0/P|  TRAPPIST-1e| 0.0|False|        0.0|      0.0|         0.0|   0.0|   0.0|     Lyde Brighttt|       True|\n",
      "+-----------+----------+---------+-----+-------------+----+-----+-----------+---------+------------+------+------+------------------+-----------+\n",
      "only showing top 20 rows\n",
      "\n",
      "root\n",
      " |-- PassengerId: string (nullable = true)\n",
      " |-- HomePlanet: string (nullable = true)\n",
      " |-- CryoSleep: string (nullable = true)\n",
      " |-- Cabin: string (nullable = true)\n",
      " |-- Destination: string (nullable = true)\n",
      " |-- Age: string (nullable = true)\n",
      " |-- VIP: string (nullable = true)\n",
      " |-- RoomService: string (nullable = true)\n",
      " |-- FoodCourt: string (nullable = true)\n",
      " |-- ShoppingMall: string (nullable = true)\n",
      " |-- Spa: string (nullable = true)\n",
      " |-- VRDeck: string (nullable = true)\n",
      " |-- Name: string (nullable = true)\n",
      " |-- Transported: string (nullable = true)\n",
      "\n"
     ]
    }
   ],
   "source": [
    "train_spark.show()\n",
    "train_spark.printSchema()"
   ]
  },
  {
   "cell_type": "markdown",
   "metadata": {},
   "source": [
    "## Data wrangling"
   ]
  },
  {
   "cell_type": "code",
   "execution_count": 118,
   "metadata": {},
   "outputs": [
    {
     "name": "stdout",
     "output_type": "stream",
     "text": [
      "+-----------+----------+---------+-----+-------------+----+-----+-----------+---------+------------+------+------+------------------+-----------+-------+-------+-------+----+----+----+--------------+---------------+--------+--------+\n",
      "|PassengerId|HomePlanet|CryoSleep|Cabin|  Destination| Age|  VIP|RoomService|FoodCourt|ShoppingMall|   Spa|VRDeck|              Name|Transported|Cabin_1|Cabin_2|Cabin_3|deck| num|side|HomePlanet_idx|Destination_idx|deck_idx|side_idx|\n",
      "+-----------+----------+---------+-----+-------------+----+-----+-----------+---------+------------+------+------+------------------+-----------+-------+-------+-------+----+----+----+--------------+---------------+--------+--------+\n",
      "|    0001_01|    Europa|    false|B/0/P|  TRAPPIST-1e|39.0|false|        0.0|      0.0|         0.0|   0.0|   0.0|   Maham Ofracculy|      false|      B|      0|      P|   B| 0.0|   P|           1.0|            0.0|     3.0|     1.0|\n",
      "|    0002_01|     Earth|    false|F/0/S|  TRAPPIST-1e|24.0|false|      109.0|      9.0|        25.0| 549.0|  44.0|      Juanna Vines|       true|      F|      0|      S|   F| 0.0|   S|           0.0|            0.0|     0.0|     0.0|\n",
      "|    0003_01|    Europa|    false|A/0/S|  TRAPPIST-1e|58.0| true|       43.0|   3576.0|         0.0|6715.0|  49.0|     Altark Susent|      false|      A|      0|      S|   A| 0.0|   S|           1.0|            0.0|     6.0|     0.0|\n",
      "|    0003_02|    Europa|    false|A/0/S|  TRAPPIST-1e|33.0|false|        0.0|   1283.0|       371.0|3329.0| 193.0|      Solam Susent|      false|      A|      0|      S|   A| 0.0|   S|           1.0|            0.0|     6.0|     0.0|\n",
      "|    0004_01|     Earth|    false|F/1/S|  TRAPPIST-1e|16.0|false|      303.0|     70.0|       151.0| 565.0|   2.0| Willy Santantines|       true|      F|      1|      S|   F| 1.0|   S|           0.0|            0.0|     0.0|     0.0|\n",
      "|    0005_01|     Earth|    false|F/0/P|PSO J318.5-22|44.0|false|        0.0|    483.0|         0.0| 291.0|   0.0| Sandie Hinetthews|       true|      F|      0|      P|   F| 0.0|   P|           0.0|            2.0|     0.0|     1.0|\n",
      "|    0006_01|     Earth|    false|F/2/S|  TRAPPIST-1e|26.0|false|       42.0|   1539.0|         3.0|   0.0|   0.0|Billex Jacostaffey|       true|      F|      2|      S|   F| 2.0|   S|           0.0|            0.0|     0.0|     0.0|\n",
      "|    0006_02|     Earth|     true|G/0/S|  TRAPPIST-1e|28.0|false|        0.0|      0.0|         0.0|   0.0|  NULL|Candra Jacostaffey|       true|      G|      0|      S|   G| 0.0|   S|           0.0|            0.0|     1.0|     0.0|\n",
      "|    0007_01|     Earth|    false|F/3/S|  TRAPPIST-1e|35.0|false|        0.0|    785.0|        17.0| 216.0|   0.0|     Andona Beston|       true|      F|      3|      S|   F| 3.0|   S|           0.0|            0.0|     0.0|     0.0|\n",
      "|    0008_01|    Europa|     true|B/1/P|  55 Cancri e|14.0|false|        0.0|      0.0|         0.0|   0.0|   0.0|    Erraiam Flatic|       true|      B|      1|      P|   B| 1.0|   P|           1.0|            1.0|     3.0|     1.0|\n",
      "|    0008_02|    Europa|     true|B/1/P|  TRAPPIST-1e|34.0|false|        0.0|      0.0|        NULL|   0.0|   0.0|    Altardr Flatic|       true|      B|      1|      P|   B| 1.0|   P|           1.0|            0.0|     3.0|     1.0|\n",
      "|    0008_03|    Europa|    false|B/1/P|  55 Cancri e|45.0|false|       39.0|   7295.0|       589.0| 110.0| 124.0|     Wezena Flatic|       true|      B|      1|      P|   B| 1.0|   P|           1.0|            1.0|     3.0|     1.0|\n",
      "|    0009_01|      Mars|    false|F/1/P|  TRAPPIST-1e|32.0|false|       73.0|      0.0|      1123.0|   0.0| 113.0|      Berers Barne|       true|      F|      1|      P|   F| 1.0|   P|           2.0|            0.0|     0.0|     1.0|\n",
      "|    0010_01|     Earth|    false|G/1/S|  TRAPPIST-1e|48.0|false|      719.0|      1.0|        65.0|   0.0|  24.0|    Reney Baketton|      false|      G|      1|      S|   G| 1.0|   S|           0.0|            0.0|     1.0|     0.0|\n",
      "|    0011_01|     Earth|    false|F/2/P|  TRAPPIST-1e|28.0|false|        8.0|    974.0|        12.0|   2.0|   7.0|   Elle Bertsontry|       true|      F|      2|      P|   F| 2.0|   P|           0.0|            0.0|     0.0|     1.0|\n",
      "|    0012_01|     Earth|    false| NULL|  TRAPPIST-1e|31.0|false|       32.0|      0.0|       876.0|   0.0|   0.0|     Justie Pooles|      false|   NULL|   NULL|   NULL|NULL|NULL|NULL|           0.0|            0.0|     8.0|     2.0|\n",
      "|    0014_01|      Mars|    false|F/3/P|  55 Cancri e|27.0|false|     1286.0|    122.0|        NULL|   0.0|   0.0|       Flats Eccle|      false|      F|      3|      P|   F| 3.0|   P|           2.0|            1.0|     0.0|     1.0|\n",
      "|    0015_01|     Earth|    false|F/4/P|  55 Cancri e|24.0|false|        0.0|      1.0|         0.0|   0.0| 637.0|   Carry Hughriend|      false|      F|      4|      P|   F| 4.0|   P|           0.0|            1.0|     0.0|     1.0|\n",
      "|    0016_01|      Mars|     true|F/5/P|  TRAPPIST-1e|45.0|false|        0.0|      0.0|         0.0|   0.0|   0.0|        Alus Upead|       true|      F|      5|      P|   F| 5.0|   P|           2.0|            0.0|     0.0|     1.0|\n",
      "|    0017_01|     Earth|    false|G/0/P|  TRAPPIST-1e| 0.0|false|        0.0|      0.0|         0.0|   0.0|   0.0|     Lyde Brighttt|       true|      G|      0|      P|   G| 0.0|   P|           0.0|            0.0|     1.0|     1.0|\n",
      "+-----------+----------+---------+-----+-------------+----+-----+-----------+---------+------------+------+------+------------------+-----------+-------+-------+-------+----+----+----+--------------+---------------+--------+--------+\n",
      "only showing top 20 rows\n",
      "\n",
      "root\n",
      " |-- PassengerId: string (nullable = true)\n",
      " |-- HomePlanet: string (nullable = true)\n",
      " |-- CryoSleep: boolean (nullable = true)\n",
      " |-- Cabin: string (nullable = true)\n",
      " |-- Destination: string (nullable = true)\n",
      " |-- Age: float (nullable = true)\n",
      " |-- VIP: boolean (nullable = true)\n",
      " |-- RoomService: float (nullable = true)\n",
      " |-- FoodCourt: float (nullable = true)\n",
      " |-- ShoppingMall: float (nullable = true)\n",
      " |-- Spa: float (nullable = true)\n",
      " |-- VRDeck: float (nullable = true)\n",
      " |-- Name: string (nullable = true)\n",
      " |-- Transported: boolean (nullable = true)\n",
      " |-- Cabin_1: string (nullable = true)\n",
      " |-- Cabin_2: string (nullable = true)\n",
      " |-- Cabin_3: string (nullable = true)\n",
      " |-- deck: string (nullable = true)\n",
      " |-- num: float (nullable = true)\n",
      " |-- side: string (nullable = true)\n",
      " |-- HomePlanet_idx: double (nullable = false)\n",
      " |-- Destination_idx: double (nullable = false)\n",
      " |-- deck_idx: double (nullable = false)\n",
      " |-- side_idx: double (nullable = false)\n",
      "\n"
     ]
    }
   ],
   "source": [
    "# cast types\n",
    "train_spark = train_spark.withColumn(\"CryoSleep\",col(\"CryoSleep\").cast(\"boolean\"))\n",
    "train_spark = train_spark.withColumn(\"VIP\",col(\"VIP\").cast(\"boolean\"))\n",
    "train_spark = train_spark.withColumn(\"Transported\",col(\"Transported\").cast(\"boolean\"))\n",
    "train_spark = train_spark.withColumn(\"Age\",col(\"Age\").cast(\"float\"))\n",
    "train_spark = train_spark.withColumn(\"RoomService\",col(\"RoomService\").cast(\"float\"))\n",
    "train_spark = train_spark.withColumn(\"FoodCourt\",col(\"FoodCourt\").cast(\"float\"))\n",
    "train_spark = train_spark.withColumn(\"ShoppingMall\",col(\"ShoppingMall\").cast(\"float\"))\n",
    "train_spark = train_spark.withColumn(\"Spa\",col(\"Spa\").cast(\"float\"))\n",
    "train_spark = train_spark.withColumn(\"VRDeck\",col(\"VRDeck\").cast(\"float\"))\n",
    "\n",
    "# breakdown cabin address\n",
    "train_spark =  train_spark.withColumn('deck', split(train_spark['Cabin'], '/').getItem(0)) \\\n",
    "       .withColumn('num', split(train_spark['Cabin'], '/').getItem(1)) \\\n",
    "       .withColumn('side', split(train_spark['Cabin'], '/').getItem(2))\n",
    "train_spark = train_spark.withColumn(\"num\",col(\"num\").cast(\"float\"))\n",
    "\n",
    "# one hot encode\n",
    "train_spark_ohe = StringIndexer(inputCol='HomePlanet', outputCol='HomePlanet_idx').fit(train_spark).transform(train_spark)\n",
    "train_spark_ohe = StringIndexer(inputCol='Destination', outputCol='Destination_idx').fit(train_spark_ohe).transform(train_spark_ohe)\n",
    "train_spark_ohe = StringIndexer(inputCol='deck', outputCol='deck_idx', handleInvalid='keep').fit(train_spark_ohe).transform(train_spark_ohe)\n",
    "train_spark_ohe = StringIndexer(inputCol='side', outputCol='side_idx', handleInvalid='keep').fit(train_spark_ohe).transform(train_spark_ohe)\n",
    "\n",
    "# normalize numerical data\n",
    "\n",
    "\n",
    "train_spark_ohe.show()\n",
    "train_spark_ohe.printSchema()"
   ]
  },
  {
   "cell_type": "code",
   "execution_count": null,
   "metadata": {},
   "outputs": [],
   "source": []
  },
  {
   "cell_type": "code",
   "execution_count": null,
   "metadata": {},
   "outputs": [],
   "source": [
    "# onehot encode and normalization\n",
    "\n"
   ]
  },
  {
   "cell_type": "code",
   "execution_count": 115,
   "metadata": {},
   "outputs": [
    {
     "name": "stdout",
     "output_type": "stream",
     "text": [
      "+-------+\n",
      "|Cabin_1|\n",
      "+-------+\n",
      "|      F|\n",
      "|      E|\n",
      "|      T|\n",
      "|      B|\n",
      "|      D|\n",
      "|      C|\n",
      "|      A|\n",
      "|      G|\n",
      "|   NULL|\n",
      "+-------+\n",
      "\n"
     ]
    }
   ],
   "source": [
    "train_spark_ohe.select(\"Cabin_1\").distinct().show()"
   ]
  },
  {
   "cell_type": "code",
   "execution_count": 42,
   "metadata": {},
   "outputs": [
    {
     "data": {
      "text/plain": [
       "['PassengerId',\n",
       " 'HomePlanet',\n",
       " 'CryoSleep',\n",
       " 'Cabin',\n",
       " 'Destination',\n",
       " 'Age',\n",
       " 'VIP',\n",
       " 'RoomService',\n",
       " 'FoodCourt',\n",
       " 'ShoppingMall',\n",
       " 'Spa',\n",
       " 'VRDeck',\n",
       " 'Name',\n",
       " 'Transported']"
      ]
     },
     "execution_count": 42,
     "metadata": {},
     "output_type": "execute_result"
    }
   ],
   "source": [
    "Correlation.corr(column=)"
   ]
  },
  {
   "cell_type": "code",
   "execution_count": null,
   "metadata": {},
   "outputs": [],
   "source": []
  }
 ],
 "metadata": {
  "kernelspec": {
   "display_name": "myVenv",
   "language": "python",
   "name": "python3"
  },
  "language_info": {
   "codemirror_mode": {
    "name": "ipython",
    "version": 3
   },
   "file_extension": ".py",
   "mimetype": "text/x-python",
   "name": "python",
   "nbconvert_exporter": "python",
   "pygments_lexer": "ipython3",
   "version": "3.11.2"
  }
 },
 "nbformat": 4,
 "nbformat_minor": 2
}
